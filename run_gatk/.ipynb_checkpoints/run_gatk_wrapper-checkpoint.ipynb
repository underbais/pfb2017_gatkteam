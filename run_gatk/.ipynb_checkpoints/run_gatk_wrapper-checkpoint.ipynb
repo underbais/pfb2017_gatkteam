{
 "cells": [
  {
   "cell_type": "code",
   "execution_count": 1,
   "metadata": {},
   "outputs": [
    {
     "name": "stderr",
     "output_type": "stream",
     "text": [
      "\n",
      "\n",
      "\tusage:/usr/local/anaconda/lib/python3.6/site-packages/ipykernel_launcher.py refpath bampath conf outpath\n",
      "\n"
     ]
    },
    {
     "ename": "SystemExit",
     "evalue": "1",
     "output_type": "error",
     "traceback": [
      "An exception has occurred, use %tb to see the full traceback.\n",
      "\u001b[0;31mSystemExit\u001b[0m\u001b[0;31m:\u001b[0m 1\n"
     ]
    },
    {
     "name": "stderr",
     "output_type": "stream",
     "text": [
      "/usr/local/anaconda/lib/python3.6/site-packages/IPython/core/interactiveshell.py:2870: UserWarning: To exit: use 'exit', 'quit', or Ctrl-D.\n",
      "  warn(\"To exit: use 'exit', 'quit', or Ctrl-D.\", stacklevel=1)\n"
     ]
    }
   ],
   "source": [
    "#! /usr/bin/env python3\n",
    "\n",
    "import os, sys, re\n",
    "import subprocess\n",
    "\n",
    "usage = \"\\n\\n\\tusage:{} refpath bampath conf outpath\\n\\n\".format(sys.argv[0]) \n",
    "      \n",
    "if len(sys.argv) <= 3:\n",
    "    sys.stderr.write(usage)\n",
    "    sys.exit(1)\n",
    "\n",
    "#get input files\n",
    "refpath = sys.argv[1]\n",
    "bampath = sys.argv[2]\n",
    "conf = sys.argv[3]\n",
    "outpath = sys.argv[4]"
   ]
  },
  {
   "cell_type": "markdown",
   "metadata": {},
   "source": [
    "This function runs GATK (UnifiedGenotyper) on BAM files generated after BWA,samtools,picard"
   ]
  },
  {
   "cell_type": "code",
   "execution_count": null,
   "metadata": {
    "collapsed": true
   },
   "outputs": [],
   "source": [
    "def run_gatk(refpath, bampath, conf, outpath = \"vcfout\"):\n",
    "    execution = 0\n",
    "    try:\n",
    "        # create bwa output folder\n",
    "        if not os.path.exists(outpath):\n",
    "            os.makedirs(vcfout)\n",
    "\n",
    "        #run gatk UnifiedGenotyper\n",
    "        for bamfile in os.listdir(bampath):\n",
    "            if bamfile.endswith('.bam'):\n",
    "                cmd = \"gatk -T UnifiedGenotyper -R {} -I {} -glm BOTH --stand_call_conf {} -o {}\".format(refpath, bamfile, conf, outfile)\n",
    "                proc = subprocess.Popen(cmd, shell=True, stdout=subprocess.PIPE, stderr=subprocess.PIPE)\n",
    "\n",
    "                #get output and errors\n",
    "                outs,errs = proc.communicate()\n",
    "                out_file_name = bamfile.split(\".bam\")[0]\n",
    "                out_file =  open(\"{}.vcf\".format(out_file_name), \"w\")\n",
    "                out_log =  open(\"{}.log\".format(out_file_name), \"w\")\n",
    "\n",
    "                # write output (from byte to ascii) in .sam\n",
    "                outs_dec = outs.decode(\"ascii\")\n",
    "                outs_errs = errs.decode(\"ascii\")\n",
    "                out_file.write(outs_dec)\n",
    "                out_log.write(outs_errs)\n",
    "                out_file.close()\n",
    "                out_log.close()\n",
    "        except:\n",
    "        execution = 1\n",
    "        return execution  # return the proc object inclunding binary output and error log"
   ]
  },
  {
   "cell_type": "code",
   "execution_count": null,
   "metadata": {
    "collapsed": true
   },
   "outputs": [],
   "source": [
    "run_gatk(refpath, bampath, conf, outpath)\n",
    "\n",
    "sys.exit(0)"
   ]
  }
 ],
 "metadata": {
  "kernelspec": {
   "display_name": "Python 3",
   "language": "python",
   "name": "python3"
  },
  "language_info": {
   "codemirror_mode": {
    "name": "ipython",
    "version": 3
   },
   "file_extension": ".py",
   "mimetype": "text/x-python",
   "name": "python",
   "nbconvert_exporter": "python",
   "pygments_lexer": "ipython3",
   "version": "3.6.2"
  }
 },
 "nbformat": 4,
 "nbformat_minor": 2
}
