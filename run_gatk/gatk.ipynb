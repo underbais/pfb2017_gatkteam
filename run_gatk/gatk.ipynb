{
 "cells": [
  {
   "cell_type": "code",
   "execution_count": null,
   "metadata": {
    "collapsed": true
   },
   "outputs": [],
   "source": [
    "import sys,os,subprocess"
   ]
  },
  {
   "cell_type": "code",
   "execution_count": null,
   "metadata": {
    "collapsed": true
   },
   "outputs": [],
   "source": [
    "bam_path = '/data/project/ERR1977350.arrg.mrkdup.sorted.bam'\n",
    "bamfiles = os.listdir(bam_path)"
   ]
  },
  {
   "cell_type": "code",
   "execution_count": null,
   "metadata": {
    "collapsed": true
   },
   "outputs": [],
   "source": [
    "command = '''gatk \\\n",
    "    -T UnifiedGenotyper \\ \n",
    "    -R ../../gbauc/ref/hg38.fa \\ \n",
    "    -I bamfile \\ \n",
    "    -L 20 \\ \n",
    "    -glm BOTH \\ \n",
    "    --stand_call_conf 30 \\ \n",
    "    --stand_emit_conf 10 \\ \n",
    "    -o bamname_variants.vcf'''"
   ]
  },
  {
   "cell_type": "code",
   "execution_count": null,
   "metadata": {
    "collapsed": true
   },
   "outputs": [],
   "source": [
    "for bamfile in bamfiles:\n",
    "    proc = subprocess.Popen(command,shell=True, stdout=subprocess.PIPE, stderr=subprocess.PIPE)\n",
    "    out,err = proc.communicate()\n",
    "    print(out.decode('ascii')\n",
    "    "
   ]
  }
 ],
 "metadata": {
  "kernelspec": {
   "display_name": "Python 3",
   "language": "python",
   "name": "python3"
  },
  "language_info": {
   "codemirror_mode": {
    "name": "ipython",
    "version": 3
   },
   "file_extension": ".py",
   "mimetype": "text/x-python",
   "name": "python",
   "nbconvert_exporter": "python",
   "pygments_lexer": "ipython3",
   "version": "3.6.2"
  }
 },
 "nbformat": 4,
 "nbformat_minor": 2
}
