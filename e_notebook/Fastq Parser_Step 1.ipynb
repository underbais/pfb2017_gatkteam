{
 "cells": [
  {
   "cell_type": "markdown",
   "metadata": {},
   "source": [
    "# Fastq Parser Script\n",
    "\n",
    "### Defined two functions to enable similutaneous parsing and trimming of two files (paired-end data)\n",
    "#### Preparing to write script; defining input, output, variables"
   ]
  },
  {
   "cell_type": "code",
   "execution_count": null,
   "metadata": {
    "collapsed": true
   },
   "outputs": [],
   "source": [
    "#!/usr/bin/env python3\n",
    "\n",
    "import sys, os\n",
    "import re\n",
    "\n",
    "line_num_tot = ''\n",
    "seq_trim = ''\n",
    "qual_trim = ''\n",
    "\n",
    "fastq_file1 = open (sys.argv[1], 'r')\n",
    "fastq_file2 = open (sys.argv[2], 'r')\n",
    "fastq_output1 = open('fastq_output1.txt','w')\n",
    "fastq_output2 = open('fastq_output2.txt','w')"
   ]
  },
  {
   "cell_type": "markdown",
   "metadata": {},
   "source": [
    "### Function 1: Defining fastq_parser (file1, file2)"
   ]
  },
  {
   "cell_type": "code",
   "execution_count": null,
   "metadata": {
    "collapsed": true
   },
   "outputs": [],
   "source": [
    "def fastq_parser(fastq_file1,fastq_file2, threshold=30):\n",
    "\n",
    "    for line_num, line1 in enumerate(fastq_file1):   #iterating over first file\n",
    "        line2 = fastq_file2.__next__()               #iterating over second file\n",
    "        line_num_tot = line_num % 4\n",
    "        shouldibreak = False                         #setting break statement variable\n",
    "        if line_num_tot == 0:\n",
    "            header_line1 = line1.rstrip()            #iterating over two files\n",
    "            header_line2 = line2.rstrip()\n",
    "        if line_num_tot == 1:\n",
    "            seq_line1 = line1.rstrip()\n",
    "            seq_line2 = line2.rstrip()\n",
    "        if line_num_tot == 2:\n",
    "            plus_line1 = line1.rstrip()\n",
    "            plus_line2 = line2.rstrip()\n",
    "        if line_num_tot == 3:\n",
    "            qual_line1 = line1.rstrip()\n",
    "            qual_line2 = line2.rstrip()\n",
    "            header_line1, seq_line_trim1, plus_line1, qual_line_trim1 = trim_f\\\n",
    "unction(header_line1, seq_line1, plus_line1, qual_line1)\n",
    "            header_line2, seq_line_trim2, plus_line2, qual_line_trim2 = trim_f\\\n",
    "unction(header_line2, seq_line2, plus_line2, qual_line2)\n",
    "            #executing defined trim_function\n",
    "            if len(seq_line_trim1) and len(seq_line_trim2) >=threshold:\n",
    "                fastq_output1.write(header_line1 + '\\n' +  seq_line_trim1 + '\\\\\n",
    "n' + plus_line1 + '\\n' + qual_line_trim1 +'\\n')\n",
    "                fastq_output2.write(header_line2 + '\\n' +  seq_line_trim2 + '\\\\\n",
    "n' + plus_line2 + '\\n' + qual_line_trim2 +'\\n')"
   ]
  },
  {
   "cell_type": "markdown",
   "metadata": {},
   "source": [
    "### Function 2: Defining trim_function (sliding window)\n",
    "#### Removing low quality data from input fastq files."
   ]
  },
  {
   "cell_type": "code",
   "execution_count": null,
   "metadata": {
    "collapsed": true
   },
   "outputs": [],
   "source": [
    "def trim_function(header_line, seq_line, plus_line, qual_line):\n",
    "\n",
    "        for pos, qual_c in enumerate(qual_line):       #sliding window function\n",
    "            windows = qual_line[pos:pos+5]\n",
    "            score_count = 0\n",
    "            shouldibreak = False                       #break statement to end trim loop\n",
    "            for window in windows:\n",
    "                if ord(window)-33 < 20:                #criteria for score\n",
    "                    score_count += 1\n",
    "                    if score_count >= 3:\n",
    "                        seq_trim = seq_line[0:pos]     #defining new function of trimmed lines\n",
    "                        qual_trim = qual_line[0:pos]\n",
    "\n",
    "                        return (header_line, seq_trim, plus_line, qual_trim)\n",
    "                        #pulling information for trimmed seqs\n",
    "                        shouldibreak = True            #breaking out of inner loop\n",
    "                        break                          \n",
    "\n",
    "            if shouldibreak is True:                   #breaking out of outer loop\n",
    "                shouldibreak = True\n",
    "                break\n",
    "        if shouldibreak is False:                      #addressing seqs that are not trimmed\n",
    "            seq_trim = seq_line\n",
    "            qual_trim = qual_line\n",
    "\n",
    "            return (header_line, seq_trim, plus_line, qual_trim)    \n",
    "            #pulling information for untrimmed seqs"
   ]
  },
  {
   "cell_type": "markdown",
   "metadata": {},
   "source": [
    "### Executing fasta_parser (file1, file2)\n",
    "#### Functions have been defined, and input data can be processed. Function 1 calls function 2 and outputs 'clean' fastq files for the 'GATK pipeline.' "
   ]
  },
  {
   "cell_type": "code",
   "execution_count": null,
   "metadata": {
    "collapsed": true
   },
   "outputs": [],
   "source": [
    "fastq_parser(fastq_file1,fastq_file2)"
   ]
  }
 ],
 "metadata": {
  "kernelspec": {
   "display_name": "Python 3",
   "language": "python",
   "name": "python3"
  },
  "language_info": {
   "codemirror_mode": {
    "name": "ipython",
    "version": 3
   },
   "file_extension": ".py",
   "mimetype": "text/x-python",
   "name": "python",
   "nbconvert_exporter": "python",
   "pygments_lexer": "ipython3",
   "version": "3.6.2"
  }
 },
 "nbformat": 4,
 "nbformat_minor": 2
}
