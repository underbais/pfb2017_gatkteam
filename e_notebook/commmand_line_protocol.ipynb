{
 "cells": [
  {
   "cell_type": "markdown",
   "metadata": {},
   "source": [
    "### Code used to process our data on the command line:"
   ]
  },
  {
   "cell_type": "markdown",
   "metadata": {},
   "source": [
    "#### 1) Syntax is: python3 run_bwa_mem.py -M -nbthreads ref_genome.fa fastq1_1.fastq fastq1_2.fastq path \n",
    "With arguments:\n",
    "\n",
    "-M Mark_split (bwa option, set by default)\n",
    "\n",
    "-nbthreads: number of CPU allocated for this query (bwa option, set as default to 1)\n",
    "\n",
    "-ref_genome.fa: reference genome in fasta format\n",
    "\n",
    "-fastq1_1.fastq: fastq paired end file 1\n",
    "\n",
    "-fastq1_2.fastq: fastq paired end file 2\n",
    "\n",
    "-path where \"bwa_output\" folder and subsequent files will be generated\n",
    "\n",
    "Guillaume ran bwa-mem on 4 samples"
   ]
  },
  {
   "cell_type": "markdown",
   "metadata": {
    "collapsed": true
   },
   "source": [
    "Example of launching command (without options):"
   ]
  },
  {
   "cell_type": "code",
   "execution_count": null,
   "metadata": {
    "collapsed": true
   },
   "outputs": [],
   "source": [
    "python3 run_bwa_mem.py ./../../../ref/hg38.fa ERR1977350_1_sub.fastq ERR1977350_2_sub.fastq"
   ]
  },
  {
   "cell_type": "markdown",
   "metadata": {
    "collapsed": true
   },
   "source": [
    "Example of launching command (with options):"
   ]
  },
  {
   "cell_type": "code",
   "execution_count": null,
   "metadata": {
    "collapsed": true
   },
   "outputs": [],
   "source": [
    "python3 run_bwa_mem.py -t 8 ./../../../ref/hg38.fa ERR1977350_1_sub.fastq ERR1977350_2_sub.fastq"
   ]
  },
  {
   "cell_type": "markdown",
   "metadata": {},
   "source": [
    "#### 2a) Jason ran samtools on 2 samples with .sam - .bam conversion and sorting done separately"
   ]
  },
  {
   "cell_type": "markdown",
   "metadata": {},
   "source": [
    "`nohup samtools view -S -b ERR1977350.sam > ERR1977350.bam 2> samtools_50.err &`\n",
    "\n",
    "-same w/ sample ERR1977351"
   ]
  },
  {
   "cell_type": "markdown",
   "metadata": {},
   "source": [
    "`nohup samtools sort -@ 4 ERR1977350.bam -o ERR1977350.sorted.bam 2> samtools_50sort.err &`\n",
    "\n",
    "-same w/ sample ERR1977351"
   ]
  },
  {
   "cell_type": "markdown",
   "metadata": {
    "collapsed": true
   },
   "source": [
    "#### 2b) Jason ran samtools  on 2 samples with .sam -> .bam conversion and sorting done simultaneously"
   ]
  },
  {
   "cell_type": "markdown",
   "metadata": {
    "collapsed": true
   },
   "source": [
    "`nohup samtools sort -@ 4 ERR1977352.sam -O BAM -o ERR1977352.sorted.bam 2> samtools_52sort.err &`\n",
    "\n",
    "-same w/ sample ERR1977353"
   ]
  },
  {
   "cell_type": "markdown",
   "metadata": {
    "collapsed": true
   },
   "source": [
    "#### 3err) Jason attempted to run picard MarkDuplicates"
   ]
  },
  {
   "cell_type": "markdown",
   "metadata": {},
   "source": [
    "`nohup java -Djava.io.tmpdir=./ -jar /usr/local/anaconda/share/picard-2.14-0/picard.jar MarkDuplicates I=ERR1977350.sorted.bam O=ERR1977350.mrkdup.sorted.bam M=ERR1977350.mrkdup_metrics.txtdf 2> picard_51.err &`\n",
    "\n",
    "***error*** a temp dir was running out of space"
   ]
  },
  {
   "cell_type": "markdown",
   "metadata": {
    "collapsed": true
   },
   "source": [
    "#### 3) Jason ran picard MarkDuplicates on 4 samples"
   ]
  },
  {
   "cell_type": "markdown",
   "metadata": {
    "collapsed": true
   },
   "source": [
    "`java -Djava.io.tmpdir=./ -jar /usr/local/anaconda/share/picard-2.14-0/picard.jar MarkDuplicates I=ERR1977350.sorted.bam O=ERR1977350.mrkdup.sorted.bam M=ERR1977350.mrkdup_metrics.txtdf`\n",
    "\n",
    "-same w/ samples ERR1977351, ERR1977352, ERR1977353"
   ]
  },
  {
   "cell_type": "markdown",
   "metadata": {
    "collapsed": true
   },
   "source": [
    "#### 4) Jason ran picard AddOrReplaceReadGroups on 4 samples"
   ]
  },
  {
   "cell_type": "markdown",
   "metadata": {
    "collapsed": true
   },
   "source": [
    "`nohup java -jar /usr/local/anaconda/share/picard-2.14-0/picard.jar AddOrReplaceReadGroups I=ERR1977350.mrkdup.sorted.bam O=ERR1977350.arrg.mrkdup.sorted.bam RGLB=lib1 RGPL=illumina RGPU=dummy RGSM=ERR1977350 2> picard_arrg_50.err &`\n",
    "\n",
    "-same w/ samples ERR1977351, ERR1977352, ERR1977353\n",
    "\n",
    "-note that values for RGLB and RGPU are arbitrary for our case, but you need a placeholder"
   ]
  },
  {
   "cell_type": "markdown",
   "metadata": {},
   "source": [
    "#### 5) Jason ran samtools index on 4 samples"
   ]
  },
  {
   "cell_type": "markdown",
   "metadata": {},
   "source": [
    "`samtools index ERR1977350.arrg.mrkdup.sorted.bam &`\n",
    "\n",
    "-same w/ samples ERR1977351, ERR1977352, ERR1977353"
   ]
  },
  {
   "cell_type": "markdown",
   "metadata": {},
   "source": [
    "#### ref1) Jason ran picard CreateSequenceDictionary on reference sequence"
   ]
  },
  {
   "cell_type": "markdown",
   "metadata": {},
   "source": [
    "`java -jar /usr/local/anaconda/share/picard-2.14-0/picard.jar CreateSequenceDictionary R=hg38.fa O=hg38.dict &`"
   ]
  },
  {
   "cell_type": "markdown",
   "metadata": {},
   "source": [
    "#### ref2) Jason ran samtools faidx on reference sequence"
   ]
  },
  {
   "cell_type": "markdown",
   "metadata": {},
   "source": [
    "`samtools faidx hg38.fa"
   ]
  },
  {
   "cell_type": "markdown",
   "metadata": {},
   "source": [
    "#### 6) Chingiz ran GenomeAnalysisTK on 4 samples"
   ]
  },
  {
   "cell_type": "markdown",
   "metadata": {},
   "source": [
    "bash loop"
   ]
  }
 ],
 "metadata": {
  "kernelspec": {
   "display_name": "Python 3",
   "language": "python",
   "name": "python3"
  },
  "language_info": {
   "codemirror_mode": {
    "name": "ipython",
    "version": 3
   },
   "file_extension": ".py",
   "mimetype": "text/x-python",
   "name": "python",
   "nbconvert_exporter": "python",
   "pygments_lexer": "ipython3",
   "version": "3.6.2"
  }
 },
 "nbformat": 4,
 "nbformat_minor": 2
}
