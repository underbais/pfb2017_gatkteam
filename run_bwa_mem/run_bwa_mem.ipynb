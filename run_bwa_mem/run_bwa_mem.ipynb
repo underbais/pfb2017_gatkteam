{
 "cells": [
  {
   "cell_type": "code",
   "execution_count": null,
   "metadata": {
    "collapsed": true
   },
   "outputs": [],
   "source": [
    "#! /usr/bin/env python3"
   ]
  },
  {
   "cell_type": "markdown",
   "metadata": {},
   "source": [
    "Syntax:\n",
    "python3 run_bwa_mem.py ./../ref/hg38.fa ./../../cunde/FASTQ/ERR1977350_1.fastq ./../../cunde/FASTQ/ERR1977350_2.fastq "
   ]
  },
  {
   "cell_type": "code",
   "execution_count": null,
   "metadata": {
    "collapsed": true
   },
   "outputs": [],
   "source": [
    "import os, sys, re\n",
    "import subprocess\n",
    "usage = \"\\n\\n\\tusage:{} refgen fastq_r1 fastq_r2\\n\\n\".format(sys.argv[0]) \n",
    "      \n",
    "if len(sys.argv) <= 3:\n",
    "    sys.stderr.write(usage)\n",
    "    sys.exit(1)"
   ]
  },
  {
   "cell_type": "markdown",
   "metadata": {},
   "source": [
    "Create a function that runs BWA mem"
   ]
  },
  {
   "cell_type": "code",
   "execution_count": null,
   "metadata": {
    "collapsed": true
   },
   "outputs": [],
   "source": [
    " #def callbwa():\n",
    "    #get input files\n",
    "refgen = sys.argv[1]\n",
    "fastq_r1 = sys.argv[2]\n",
    "fastq_r2 = sys.argv[3]\n",
    "out_file_name = fastq_r1.split(\"_\")[0]\n",
    "\n"
   ]
  },
  {
   "cell_type": "code",
   "execution_count": null,
   "metadata": {
    "collapsed": true
   },
   "outputs": [],
   "source": [
    "    #run bwa mem\n",
    "cmd = \"bwa mem -M -t 8 {} {} {}\".format(refgen,fastq_r1,fastq_r2)\n",
    "proc = subprocess.Popen(cmd, shell=True, stdout=subprocess.PIPE, stderr=subprocess.PIPE)\n",
    "\n",
    "    #get output and errors\n",
    "outs,errs = proc.communicate()\n",
    "out_file =  open(\"{}.sam\".format(out_file_name), \"w\")\n",
    "out_log =  open(\"{}.log\".format(out_file_name), \"w\")"
   ]
  },
  {
   "cell_type": "code",
   "execution_count": null,
   "metadata": {
    "collapsed": true
   },
   "outputs": [],
   "source": [
    " # write output (from byte to ascii) in .sam \n",
    "outs_dec = outs.decode(\"ascii\")\n",
    "outs_errs = errs.decode(\"ascii\")\n",
    "out_file.write(outs_dec)\n",
    "out_log.write(outs_errs)\n",
    "out_file.close()\n",
    "out_log.close()\n",
    "\n",
    "sys.exit(0)\n",
    "\n"
   ]
  }
 ],
 "metadata": {
  "kernelspec": {
   "display_name": "Python 3",
   "language": "python",
   "name": "python3"
  },
  "language_info": {
   "codemirror_mode": {
    "name": "ipython",
    "version": 3
   },
   "file_extension": ".py",
   "mimetype": "text/x-python",
   "name": "python",
   "nbconvert_exporter": "python",
   "pygments_lexer": "ipython3",
   "version": "3.6.2"
  }
 },
 "nbformat": 4,
 "nbformat_minor": 2
}
